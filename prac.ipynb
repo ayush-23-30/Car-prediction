{
 "cells": [
  {
   "cell_type": "markdown",
   "id": "2e54a926",
   "metadata": {},
   "source": [
    "### Practicing Data cleaning \n",
    "\n",
    "1. Import libraries \n",
    "2. Import data set \n",
    "3. check problems "
   ]
  },
  {
   "cell_type": "code",
   "execution_count": 6,
   "id": "b8ee4129",
   "metadata": {},
   "outputs": [],
   "source": [
    "import numpy as np\n",
    "import pandas as pd"
   ]
  },
  {
   "cell_type": "code",
   "execution_count": 58,
   "id": "ae54743c",
   "metadata": {},
   "outputs": [],
   "source": [
    "car = pd.read_csv(\"quikr_car.csv\"); \n",
    "car.head(2); "
   ]
  },
  {
   "cell_type": "code",
   "execution_count": 59,
   "id": "392c706d",
   "metadata": {},
   "outputs": [
    {
     "data": {
      "text/plain": [
       "0         Hyundai Santro Xing\n",
       "1         Mahindra Jeep CL550\n",
       "2          Maruti Suzuki Alto\n",
       "3           Hyundai Grand i10\n",
       "4      Ford EcoSport Titanium\n",
       "                ...          \n",
       "887                        Ta\n",
       "888              Tata Zest XM\n",
       "889        Mahindra Quanto C8\n",
       "890           Honda Amaze 1.2\n",
       "891        Chevrolet Sail 1.2\n",
       "Name: name, Length: 892, dtype: object"
      ]
     },
     "execution_count": 59,
     "metadata": {},
     "output_type": "execute_result"
    }
   ],
   "source": [
    "## Starting with Name \n",
    "\n",
    "car['name'] \n",
    "car['name'].isnull().sum() ## this data have no null values \n",
    "## this data have full name of car but our work can be done with First 3 Words \n",
    "\n",
    "car ['name'] =  car['name'].str.split(' ').str.slice(0,3).str.join(' ')\n",
    "car['name']\n",
    " \n",
    "## Name is Correct\n"
   ]
  },
  {
   "cell_type": "code",
   "execution_count": 37,
   "id": "2fd261d5",
   "metadata": {},
   "outputs": [
    {
     "name": "stdout",
     "output_type": "stream",
     "text": [
      "<class 'pandas.core.frame.DataFrame'>\n",
      "RangeIndex: 892 entries, 0 to 891\n",
      "Data columns (total 6 columns):\n",
      " #   Column      Non-Null Count  Dtype \n",
      "---  ------      --------------  ----- \n",
      " 0   name        892 non-null    object\n",
      " 1   company     892 non-null    object\n",
      " 2   year        892 non-null    object\n",
      " 3   Price       892 non-null    object\n",
      " 4   kms_driven  840 non-null    object\n",
      " 5   fuel_type   837 non-null    object\n",
      "dtypes: object(6)\n",
      "memory usage: 41.9+ KB\n"
     ]
    }
   ],
   "source": [
    "car.info()"
   ]
  },
  {
   "cell_type": "code",
   "execution_count": null,
   "id": "d88d105b",
   "metadata": {},
   "outputs": [
    {
     "data": {
      "text/plain": [
       "array(['Hyundai', 'Mahindra', 'Maruti', 'Ford', 'Skoda', 'Audi', 'Toyota',\n",
       "       'Renault', 'Honda', 'Datsun', 'Mitsubishi', 'Tata', 'Volkswagen',\n",
       "       'I', 'Chevrolet', 'Mini', 'BMW', 'Nissan', 'Hindustan', 'Fiat',\n",
       "       'Commercial', 'MARUTI', 'Force', 'Mercedes', 'Land', 'Yamaha',\n",
       "       'selling', 'URJENT', 'Swift', 'Used', 'Jaguar', 'Jeep', 'tata',\n",
       "       'Sale', 'very', 'Volvo', 'i', '2012', 'Well', 'all', '7', '9',\n",
       "       'scratch', 'urgent', 'sell', 'TATA', 'Any', 'Tara'], dtype=object)"
      ]
     },
     "execution_count": 39,
     "metadata": {},
     "output_type": "execute_result"
    }
   ],
   "source": [
    "car['company'].unique() ## We will do it this in last "
   ]
  },
  {
   "cell_type": "code",
   "execution_count": 60,
   "id": "d3ace6f5",
   "metadata": {},
   "outputs": [],
   "source": [
    "# Car - year \n",
    "'''\n",
    "- Problems \n",
    "1. This data have non Interger values [remove them] \n",
    "2. Change this into a int   \n",
    "-- We will Filter the numberic values and put them in car['year]\n",
    "'''\n",
    "car['year'].unique(); \n",
    "# car[~car['year'].str.isnumeric()] ## This return all the values that don't have non-int values \n",
    "# car[car['year'].str.isalpha()]\n",
    "\n",
    "# car['year'] = car['year'].str.isnumeric()\n",
    "\n",
    "car = car[car['year'].str.isnumeric()]"
   ]
  },
  {
   "cell_type": "code",
   "execution_count": 65,
   "id": "16cf789a",
   "metadata": {},
   "outputs": [
    {
     "name": "stdout",
     "output_type": "stream",
     "text": [
      "<class 'pandas.core.frame.DataFrame'>\n",
      "Index: 842 entries, 0 to 891\n",
      "Data columns (total 6 columns):\n",
      " #   Column      Non-Null Count  Dtype \n",
      "---  ------      --------------  ----- \n",
      " 0   name        842 non-null    object\n",
      " 1   company     842 non-null    object\n",
      " 2   year        842 non-null    int64 \n",
      " 3   Price       842 non-null    object\n",
      " 4   kms_driven  840 non-null    object\n",
      " 5   fuel_type   837 non-null    object\n",
      "dtypes: int64(1), object(5)\n",
      "memory usage: 46.0+ KB\n"
     ]
    }
   ],
   "source": [
    "car.head(2)\n",
    "car['year'] = car['year'].astype(int)\n",
    "car.info()"
   ]
  },
  {
   "cell_type": "code",
   "execution_count": 71,
   "id": "47845b7d",
   "metadata": {},
   "outputs": [
    {
     "data": {
      "text/plain": [
       "np.int64(0)"
      ]
     },
     "execution_count": 71,
     "metadata": {},
     "output_type": "execute_result"
    }
   ],
   "source": [
    "car['year'].isna().sum()"
   ]
  },
  {
   "cell_type": "code",
   "execution_count": null,
   "id": "7c3b3607",
   "metadata": {},
   "outputs": [
    {
     "data": {
      "text/plain": [
       "\"\\n---- Name and Year are Processed \\n- Now we will Do Price Processing \\n- problems 1. remove [Ask For Price] \\n2. And remove the ',' and convert it into a int type\\n\""
      ]
     },
     "execution_count": 86,
     "metadata": {},
     "output_type": "execute_result"
    }
   ],
   "source": [
    "'''\n",
    "---- Name and Year are Processed \n",
    "- Now we will Do Price Processing \n",
    "- problems 1. remove [Ask For Price] \n",
    "2. And remove the ',' and convert it into a int type\n",
    "'''\n",
    "\n",
    "car['Price'].unique()\n",
    "car = car[car['Price'] != 'Ask For Price'] ## agar price iske == na ho toh usko price m dal do \n",
    "car['Price'].unique()\n",
    "\n",
    "car['Price']=car['Price'].str.replace(',','').astype(int)\n"
   ]
  },
  {
   "cell_type": "code",
   "execution_count": null,
   "id": "0099f539",
   "metadata": {},
   "outputs": [
    {
     "name": "stdout",
     "output_type": "stream",
     "text": [
      "<class 'pandas.core.frame.DataFrame'>\n",
      "Index: 819 entries, 0 to 891\n",
      "Data columns (total 6 columns):\n",
      " #   Column      Non-Null Count  Dtype \n",
      "---  ------      --------------  ----- \n",
      " 0   name        819 non-null    object\n",
      " 1   company     819 non-null    object\n",
      " 2   year        819 non-null    int64 \n",
      " 3   Price       819 non-null    int64 \n",
      " 4   kms_driven  819 non-null    object\n",
      " 5   fuel_type   816 non-null    object\n",
      "dtypes: int64(2), object(4)\n",
      "memory usage: 44.8+ KB\n"
     ]
    }
   ],
   "source": [
    "car.info()"
   ]
  },
  {
   "cell_type": "code",
   "execution_count": 89,
   "id": "d173700d",
   "metadata": {},
   "outputs": [
    {
     "data": {
      "text/plain": [
       "np.int64(0)"
      ]
     },
     "execution_count": 89,
     "metadata": {},
     "output_type": "execute_result"
    }
   ],
   "source": [
    "'''\n",
    "---- Name , Price , Year have been preprocessed. Remaining - Kms_driven, Fuel_Type, Company \n",
    "NOW -- KMS_driven \n",
    "Problems - 1. remove kms \n",
    "2. remove ','\n",
    "3. remove nan\n",
    "'''\n",
    "car['kms_driven'].isnull().sum()"
   ]
  },
  {
   "cell_type": "code",
   "execution_count": null,
   "id": "3b841178",
   "metadata": {},
   "outputs": [],
   "source": []
  }
 ],
 "metadata": {
  "kernelspec": {
   "display_name": ".venv",
   "language": "python",
   "name": "python3"
  },
  "language_info": {
   "codemirror_mode": {
    "name": "ipython",
    "version": 3
   },
   "file_extension": ".py",
   "mimetype": "text/x-python",
   "name": "python",
   "nbconvert_exporter": "python",
   "pygments_lexer": "ipython3",
   "version": "3.13.2"
  }
 },
 "nbformat": 4,
 "nbformat_minor": 5
}
